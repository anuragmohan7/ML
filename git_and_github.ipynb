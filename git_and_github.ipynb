{
 "cells": [
  {
   "cell_type": "code",
   "execution_count": null,
   "id": "3b7e4ed3",
   "metadata": {},
   "outputs": [],
   "source": [
    "# Git and Github is version control system which can track code\n",
    "#  git --> local system\n",
    "#   github --> web application\n",
    "\n",
    "#goto cmd ==> type, git --version   (to check git installed or not)\n",
    "#               if not : download git from web 'git-scm.com' and install windows based git\n",
    "\n",
    "\n",
    "# what is git clone ?\n",
    "#   taking exact copy of data from remote repository to local work space\n",
    "\n",
    "# what is git push ?\n",
    "#   store local workspace changes from local machine to remote repository \n",
    "\n",
    "# what is git pull ?\n",
    "# remote repository changes get to local workspace\n"
   ]
  },
  {
   "cell_type": "code",
   "execution_count": null,
   "id": "2e77a116",
   "metadata": {},
   "outputs": [],
   "source": [
    "# CONFIG COMMANDS\n",
    "\n",
    "# git config --list ==> to list user inside git\n",
    "# git config --global user. email \"sjkammath@gmail.com\"  ==> used to create email\n",
    "# git config --global user.name \"Aiswarya Kamath\" ==> used to create username\n"
   ]
  },
  {
   "cell_type": "code",
   "execution_count": null,
   "id": "e2d2e47f",
   "metadata": {},
   "outputs": [],
   "source": [
    "# steps in local workspace\n",
    "\n",
    "# you have to create a user account to do these step (one-time)\n",
    "\n",
    "#1) git init\n",
    "#2) git remote add origin http...   --> used to add location of remote repository\n",
    "#3) git status --> list all untracked files\n",
    "#4) git add -A --> adding untracked files to staging area\n",
    "#5) git commit -m \"message\" --> staged files to local repository\n",
    "#6) git push origin master --> pushing files to remote repository"
   ]
  },
  {
   "cell_type": "code",
   "execution_count": null,
   "id": "baacdd86",
   "metadata": {},
   "outputs": [],
   "source": [
    "# OPEN TERMINAL\n",
    "\n",
    "# git init ==> used to initialize git \n",
    "\n",
    "# git add .\\filename ==> add file to stage (for first time)\n",
    "# git add -A ==> after modification adding all changes to stage\n",
    "\n",
    "# git commit -m \"any name\" ==> stage to local repository\n",
    "\n",
    "# git log ==> used to see history of commit\n",
    "\n",
    "# git remote add origin path\n",
    "# git remote -v ==> list all repository\n",
    "\n",
    "# git status ==> used to see untracked files\n",
    "\n",
    "# git push origin master ==> used to push file to remote repository\n",
    "\n",
    "# git pull origin master ==> used to pull changes from remote to workspace\n"
   ]
  },
  {
   "cell_type": "code",
   "execution_count": null,
   "id": "0964e76a",
   "metadata": {},
   "outputs": [],
   "source": [
    "# how to clone\n",
    "\n",
    "#   always clone in new folder, create new folder\n",
    "#                                type cmd in address bar"
   ]
  }
 ],
 "metadata": {
  "language_info": {
   "name": "python"
  }
 },
 "nbformat": 4,
 "nbformat_minor": 5
}
