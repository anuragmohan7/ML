{
 "cells": [
  {
   "cell_type": "code",
   "execution_count": 45,
   "id": "3a5e13f2",
   "metadata": {},
   "outputs": [],
   "source": [
    "import nltk\n",
    "\n"
   ]
  },
  {
   "cell_type": "code",
   "execution_count": 46,
   "id": "26d87583",
   "metadata": {},
   "outputs": [],
   "source": [
    "# identification of stop word\n",
    "from nltk.corpus import stopwords\n",
    "sw=stopwords.words('english')\n"
   ]
  },
  {
   "cell_type": "code",
   "execution_count": 47,
   "id": "96f4cdde",
   "metadata": {},
   "outputs": [
    {
     "data": {
      "text/plain": [
       "['The',\n",
       " 'natural',\n",
       " 'language',\n",
       " 'toolkit',\n",
       " '(',\n",
       " 'NLTK',\n",
       " ')',\n",
       " 'is',\n",
       " 'an',\n",
       " 'open',\n",
       " 'source',\n",
       " 'python',\n",
       " 'library',\n",
       " 'for',\n",
       " 'natural',\n",
       " 'language',\n",
       " 'processing',\n",
       " '.',\n",
       " 'A',\n",
       " 'free',\n",
       " 'online',\n",
       " 'book',\n",
       " 'is',\n",
       " 'avaliable']"
      ]
     },
     "execution_count": 47,
     "metadata": {},
     "output_type": "execute_result"
    }
   ],
   "source": [
    "#tokenization\n",
    "from nltk.tokenize import word_tokenize\n",
    "sentence='''The natural language toolkit (NLTK) is an open source python library\n",
    " for natural language processing. A free online book is avaliable'''\n",
    "words = word_tokenize(sentence) #sentence to words\n",
    "words"
   ]
  },
  {
   "cell_type": "code",
   "execution_count": 48,
   "id": "b0e203e7",
   "metadata": {},
   "outputs": [
    {
     "name": "stdout",
     "output_type": "stream",
     "text": [
      "('this', 'is')\n",
      "('is', 'a')\n",
      "('a', 'very')\n",
      "('very', 'good')\n",
      "('good', 'book')\n",
      "('book', 'to')\n",
      "('to', 'study')\n"
     ]
    }
   ],
   "source": [
    "# other tokenization method\n",
    "# ngrams\n",
    "\n",
    "from nltk.util import ngrams \n",
    "sentence2='this is a very good book to study'\n",
    "words2=ngrams(sequence=nltk.word_tokenize(sentence2),n=2)\n",
    "for i in words2:\n",
    "    print(i)"
   ]
  },
  {
   "cell_type": "code",
   "execution_count": 49,
   "id": "e0582c36",
   "metadata": {},
   "outputs": [
    {
     "data": {
      "text/plain": [
       "['natural',\n",
       " 'language',\n",
       " 'toolkit',\n",
       " '(',\n",
       " 'nltk',\n",
       " ')',\n",
       " 'open',\n",
       " 'source',\n",
       " 'python',\n",
       " 'library',\n",
       " 'natural',\n",
       " 'language',\n",
       " 'processing',\n",
       " '.',\n",
       " 'free',\n",
       " 'online',\n",
       " 'book',\n",
       " 'avaliable']"
      ]
     },
     "execution_count": 49,
     "metadata": {},
     "output_type": "execute_result"
    }
   ],
   "source": [
    "#remove stopwords from words\n",
    "rem_stops=[i.lower() for i in words if i.lower() not in sw]  #remove stopwords and uppercase words\n",
    "rem_stops"
   ]
  },
  {
   "cell_type": "code",
   "execution_count": 50,
   "id": "6248cd42",
   "metadata": {},
   "outputs": [
    {
     "name": "stdout",
     "output_type": "stream",
     "text": [
      "walking : walk\n",
      "driving : drive\n",
      "Swimming : swim\n",
      "Eated : eat\n",
      "worked : work\n",
      "reached : reach\n",
      "works : work\n"
     ]
    }
   ],
   "source": [
    "# stemming --> used to get root word\n",
    "# 2 types  = PorterStemmer,SnowballStemmer\n",
    "\n",
    "from nltk.stem import PorterStemmer\n",
    "ps=PorterStemmer()\n",
    "words3=['walking','driving','Swimming','Eated','worked','reached','works']\n",
    "for i in words3:\n",
    "    print(i,\":\",ps.stem(i))"
   ]
  },
  {
   "cell_type": "code",
   "execution_count": 51,
   "id": "d5f710ba",
   "metadata": {},
   "outputs": [
    {
     "name": "stdout",
     "output_type": "stream",
     "text": [
      "walking : walk\n",
      "driving : drive\n",
      "Swimming : swim\n",
      "Eated : eat\n",
      "worked : work\n",
      "reached : reach\n",
      "works : work\n"
     ]
    }
   ],
   "source": [
    "# SnowballStemmer\n",
    "from nltk.stem import SnowballStemmer\n",
    "ss=SnowballStemmer('english') #in SnowballStemmer you should mention language\n",
    "for i in words3:\n",
    "    print(i,\":\",ss.stem(i))"
   ]
  },
  {
   "cell_type": "code",
   "execution_count": null,
   "id": "93de90fb",
   "metadata": {},
   "outputs": [],
   "source": []
  },
  {
   "cell_type": "code",
   "execution_count": 52,
   "id": "493ce1e9",
   "metadata": {},
   "outputs": [
    {
     "name": "stderr",
     "output_type": "stream",
     "text": [
      "[nltk_data] Downloading package wordnet to\n",
      "[nltk_data]     C:\\Users\\ASUS\\AppData\\Roaming\\nltk_data...\n",
      "[nltk_data]   Package wordnet is already up-to-date!\n",
      "[nltk_data] Downloading package omw-1.4 to\n",
      "[nltk_data]     C:\\Users\\ASUS\\AppData\\Roaming\\nltk_data...\n",
      "[nltk_data]   Package omw-1.4 is already up-to-date!\n"
     ]
    }
   ],
   "source": [
    "#lemmatization --> also used to get root word, but only removes \"s\"\n",
    "# lemmatization is not used because of this\n",
    "from nltk.stem import WordNetLemmatizer\n",
    "nltk.download('wordnet')\n",
    "nltk.download('omw-1.4')\n",
    "lemmet=WordNetLemmatizer()\n"
   ]
  },
  {
   "cell_type": "code",
   "execution_count": 54,
   "id": "82ee1d95",
   "metadata": {},
   "outputs": [
    {
     "name": "stdout",
     "output_type": "stream",
     "text": [
      "walking : walking\n",
      "driving : driving\n",
      "Swimming : Swimming\n",
      "Eated : Eated\n",
      "worked : worked\n",
      "reached : reached\n",
      "works : work\n"
     ]
    }
   ],
   "source": [
    "for i in words3:\n",
    "    print(i,\":\",lemmet.lemmatize(i))"
   ]
  },
  {
   "cell_type": "code",
   "execution_count": 63,
   "id": "7b82b92a",
   "metadata": {},
   "outputs": [
    {
     "data": {
      "text/plain": [
       "'Wonderful  Peacock     234 5789 at Luminar   '"
      ]
     },
     "execution_count": 63,
     "metadata": {},
     "output_type": "execute_result"
    }
   ],
   "source": [
    "# remove special characters\n",
    "# regular expression --> used to remove special characters\n",
    "import re\n",
    "str1='Wonderful @Peacock @#$ 234 5789 at Luminar!!!'\n",
    "str2=re.sub('[A-Z]','',str1) # A to Z from str1 replaced with space\n",
    "str2=re.sub('[a-z]',' ',str1) # a to z from str1 replaced with space\n",
    "str2=re.sub('[0-9]',' ',str1) # 0 to 9 from str1 replaced with space\n",
    "\n",
    "str2=re.sub('[A-Z0-9a-z]',' ',str1) # A to Z,0 to 9 and a to z from str1 replaced with space\n",
    "\n",
    "str2=re.sub('[^A-Z0-9a-z]',' ',str1) # ^ symbol is used to remove string exept A-Z0-9a-z\n",
    "\n",
    "\n",
    "\n",
    "str2"
   ]
  }
 ],
 "metadata": {
  "kernelspec": {
   "display_name": "Python 3",
   "language": "python",
   "name": "python3"
  },
  "language_info": {
   "codemirror_mode": {
    "name": "ipython",
    "version": 3
   },
   "file_extension": ".py",
   "mimetype": "text/x-python",
   "name": "python",
   "nbconvert_exporter": "python",
   "pygments_lexer": "ipython3",
   "version": "3.12.6"
  }
 },
 "nbformat": 4,
 "nbformat_minor": 5
}
