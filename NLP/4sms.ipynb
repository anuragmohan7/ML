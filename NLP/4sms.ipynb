{
 "cells": [
  {
   "cell_type": "code",
   "execution_count": 29,
   "id": "a4cd5deb",
   "metadata": {},
   "outputs": [],
   "source": [
    "import numpy as np\n",
    "import pandas as pd\n",
    "import matplotlib.pyplot as plt\n",
    "import seaborn as sns\n",
    "\n",
    "import nltk\n",
    "import re"
   ]
  },
  {
   "cell_type": "code",
   "execution_count": 30,
   "id": "aeeedde3",
   "metadata": {},
   "outputs": [
    {
     "data": {
      "text/html": [
       "<div>\n",
       "<style scoped>\n",
       "    .dataframe tbody tr th:only-of-type {\n",
       "        vertical-align: middle;\n",
       "    }\n",
       "\n",
       "    .dataframe tbody tr th {\n",
       "        vertical-align: top;\n",
       "    }\n",
       "\n",
       "    .dataframe thead th {\n",
       "        text-align: right;\n",
       "    }\n",
       "</style>\n",
       "<table border=\"1\" class=\"dataframe\">\n",
       "  <thead>\n",
       "    <tr style=\"text-align: right;\">\n",
       "      <th></th>\n",
       "      <th>S. No.</th>\n",
       "      <th>Message_body</th>\n",
       "      <th>Label</th>\n",
       "    </tr>\n",
       "  </thead>\n",
       "  <tbody>\n",
       "    <tr>\n",
       "      <th>0</th>\n",
       "      <td>1</td>\n",
       "      <td>Rofl. Its true to its name</td>\n",
       "      <td>Non-Spam</td>\n",
       "    </tr>\n",
       "    <tr>\n",
       "      <th>1</th>\n",
       "      <td>2</td>\n",
       "      <td>The guy did some bitching but I acted like i'd...</td>\n",
       "      <td>Non-Spam</td>\n",
       "    </tr>\n",
       "    <tr>\n",
       "      <th>2</th>\n",
       "      <td>3</td>\n",
       "      <td>Pity, * was in mood for that. So...any other s...</td>\n",
       "      <td>Non-Spam</td>\n",
       "    </tr>\n",
       "    <tr>\n",
       "      <th>3</th>\n",
       "      <td>4</td>\n",
       "      <td>Will ü b going to esplanade fr home?</td>\n",
       "      <td>Non-Spam</td>\n",
       "    </tr>\n",
       "    <tr>\n",
       "      <th>4</th>\n",
       "      <td>5</td>\n",
       "      <td>This is the 2nd time we have tried 2 contact u...</td>\n",
       "      <td>Spam</td>\n",
       "    </tr>\n",
       "    <tr>\n",
       "      <th>...</th>\n",
       "      <td>...</td>\n",
       "      <td>...</td>\n",
       "      <td>...</td>\n",
       "    </tr>\n",
       "    <tr>\n",
       "      <th>952</th>\n",
       "      <td>953</td>\n",
       "      <td>hows my favourite person today? r u workin har...</td>\n",
       "      <td>Non-Spam</td>\n",
       "    </tr>\n",
       "    <tr>\n",
       "      <th>953</th>\n",
       "      <td>954</td>\n",
       "      <td>How much you got for cleaning</td>\n",
       "      <td>Non-Spam</td>\n",
       "    </tr>\n",
       "    <tr>\n",
       "      <th>954</th>\n",
       "      <td>955</td>\n",
       "      <td>Sorry da. I gone mad so many pending works wha...</td>\n",
       "      <td>Non-Spam</td>\n",
       "    </tr>\n",
       "    <tr>\n",
       "      <th>955</th>\n",
       "      <td>956</td>\n",
       "      <td>Wat time ü finish?</td>\n",
       "      <td>Non-Spam</td>\n",
       "    </tr>\n",
       "    <tr>\n",
       "      <th>956</th>\n",
       "      <td>957</td>\n",
       "      <td>Just glad to be talking to you.</td>\n",
       "      <td>Non-Spam</td>\n",
       "    </tr>\n",
       "  </tbody>\n",
       "</table>\n",
       "<p>957 rows × 3 columns</p>\n",
       "</div>"
      ],
      "text/plain": [
       "     S. No.                                       Message_body     Label\n",
       "0         1                         Rofl. Its true to its name  Non-Spam\n",
       "1         2  The guy did some bitching but I acted like i'd...  Non-Spam\n",
       "2         3  Pity, * was in mood for that. So...any other s...  Non-Spam\n",
       "3         4               Will ü b going to esplanade fr home?  Non-Spam\n",
       "4         5  This is the 2nd time we have tried 2 contact u...      Spam\n",
       "..      ...                                                ...       ...\n",
       "952     953  hows my favourite person today? r u workin har...  Non-Spam\n",
       "953     954                      How much you got for cleaning  Non-Spam\n",
       "954     955  Sorry da. I gone mad so many pending works wha...  Non-Spam\n",
       "955     956                                 Wat time ü finish?  Non-Spam\n",
       "956     957                    Just glad to be talking to you.  Non-Spam\n",
       "\n",
       "[957 rows x 3 columns]"
      ]
     },
     "execution_count": 30,
     "metadata": {},
     "output_type": "execute_result"
    }
   ],
   "source": [
    "df1=pd.read_csv('SMS_train.csv',encoding='ISO-8859-1')\n",
    "df1"
   ]
  },
  {
   "cell_type": "code",
   "execution_count": 31,
   "id": "98bedc95",
   "metadata": {},
   "outputs": [
    {
     "data": {
      "text/html": [
       "<div>\n",
       "<style scoped>\n",
       "    .dataframe tbody tr th:only-of-type {\n",
       "        vertical-align: middle;\n",
       "    }\n",
       "\n",
       "    .dataframe tbody tr th {\n",
       "        vertical-align: top;\n",
       "    }\n",
       "\n",
       "    .dataframe thead th {\n",
       "        text-align: right;\n",
       "    }\n",
       "</style>\n",
       "<table border=\"1\" class=\"dataframe\">\n",
       "  <thead>\n",
       "    <tr style=\"text-align: right;\">\n",
       "      <th></th>\n",
       "      <th>S. No.</th>\n",
       "      <th>Message_body</th>\n",
       "      <th>Label</th>\n",
       "    </tr>\n",
       "  </thead>\n",
       "  <tbody>\n",
       "    <tr>\n",
       "      <th>0</th>\n",
       "      <td>1</td>\n",
       "      <td>UpgrdCentre Orange customer, you may now claim...</td>\n",
       "      <td>Spam</td>\n",
       "    </tr>\n",
       "    <tr>\n",
       "      <th>1</th>\n",
       "      <td>2</td>\n",
       "      <td>Loan for any purpose £500 - £75,000. Homeowner...</td>\n",
       "      <td>Spam</td>\n",
       "    </tr>\n",
       "    <tr>\n",
       "      <th>2</th>\n",
       "      <td>3</td>\n",
       "      <td>Congrats! Nokia 3650 video camera phone is you...</td>\n",
       "      <td>Spam</td>\n",
       "    </tr>\n",
       "    <tr>\n",
       "      <th>3</th>\n",
       "      <td>4</td>\n",
       "      <td>URGENT! Your Mobile number has been awarded wi...</td>\n",
       "      <td>Spam</td>\n",
       "    </tr>\n",
       "    <tr>\n",
       "      <th>4</th>\n",
       "      <td>5</td>\n",
       "      <td>Someone has contacted our dating service and e...</td>\n",
       "      <td>Spam</td>\n",
       "    </tr>\n",
       "    <tr>\n",
       "      <th>...</th>\n",
       "      <td>...</td>\n",
       "      <td>...</td>\n",
       "      <td>...</td>\n",
       "    </tr>\n",
       "    <tr>\n",
       "      <th>120</th>\n",
       "      <td>121</td>\n",
       "      <td>7 wonders in My WORLD 7th You 6th Ur style 5th...</td>\n",
       "      <td>Non-Spam</td>\n",
       "    </tr>\n",
       "    <tr>\n",
       "      <th>121</th>\n",
       "      <td>122</td>\n",
       "      <td>Try to do something dear. You read something f...</td>\n",
       "      <td>Non-Spam</td>\n",
       "    </tr>\n",
       "    <tr>\n",
       "      <th>122</th>\n",
       "      <td>123</td>\n",
       "      <td>Sun ah... Thk mayb can if dun have anythin on....</td>\n",
       "      <td>Non-Spam</td>\n",
       "    </tr>\n",
       "    <tr>\n",
       "      <th>123</th>\n",
       "      <td>124</td>\n",
       "      <td>SYMPTOMS when U are in love: \"1.U like listeni...</td>\n",
       "      <td>Non-Spam</td>\n",
       "    </tr>\n",
       "    <tr>\n",
       "      <th>124</th>\n",
       "      <td>125</td>\n",
       "      <td>Great. Have a safe trip. Dont panic surrender ...</td>\n",
       "      <td>Non-Spam</td>\n",
       "    </tr>\n",
       "  </tbody>\n",
       "</table>\n",
       "<p>125 rows × 3 columns</p>\n",
       "</div>"
      ],
      "text/plain": [
       "     S. No.                                       Message_body     Label\n",
       "0         1  UpgrdCentre Orange customer, you may now claim...      Spam\n",
       "1         2  Loan for any purpose £500 - £75,000. Homeowner...      Spam\n",
       "2         3  Congrats! Nokia 3650 video camera phone is you...      Spam\n",
       "3         4  URGENT! Your Mobile number has been awarded wi...      Spam\n",
       "4         5  Someone has contacted our dating service and e...      Spam\n",
       "..      ...                                                ...       ...\n",
       "120     121  7 wonders in My WORLD 7th You 6th Ur style 5th...  Non-Spam\n",
       "121     122  Try to do something dear. You read something f...  Non-Spam\n",
       "122     123  Sun ah... Thk mayb can if dun have anythin on....  Non-Spam\n",
       "123     124  SYMPTOMS when U are in love: \"1.U like listeni...  Non-Spam\n",
       "124     125  Great. Have a safe trip. Dont panic surrender ...  Non-Spam\n",
       "\n",
       "[125 rows x 3 columns]"
      ]
     },
     "execution_count": 31,
     "metadata": {},
     "output_type": "execute_result"
    }
   ],
   "source": [
    "df2=pd.read_csv('SMS_test.csv',encoding='ISO-8859-1')\n",
    "df2"
   ]
  },
  {
   "cell_type": "code",
   "execution_count": 32,
   "id": "68589cae",
   "metadata": {},
   "outputs": [
    {
     "data": {
      "text/html": [
       "<div>\n",
       "<style scoped>\n",
       "    .dataframe tbody tr th:only-of-type {\n",
       "        vertical-align: middle;\n",
       "    }\n",
       "\n",
       "    .dataframe tbody tr th {\n",
       "        vertical-align: top;\n",
       "    }\n",
       "\n",
       "    .dataframe thead th {\n",
       "        text-align: right;\n",
       "    }\n",
       "</style>\n",
       "<table border=\"1\" class=\"dataframe\">\n",
       "  <thead>\n",
       "    <tr style=\"text-align: right;\">\n",
       "      <th></th>\n",
       "      <th>S. No.</th>\n",
       "      <th>Message_body</th>\n",
       "      <th>Label</th>\n",
       "    </tr>\n",
       "  </thead>\n",
       "  <tbody>\n",
       "    <tr>\n",
       "      <th>0</th>\n",
       "      <td>1</td>\n",
       "      <td>Rofl. Its true to its name</td>\n",
       "      <td>Non-Spam</td>\n",
       "    </tr>\n",
       "    <tr>\n",
       "      <th>1</th>\n",
       "      <td>2</td>\n",
       "      <td>The guy did some bitching but I acted like i'd...</td>\n",
       "      <td>Non-Spam</td>\n",
       "    </tr>\n",
       "    <tr>\n",
       "      <th>2</th>\n",
       "      <td>3</td>\n",
       "      <td>Pity, * was in mood for that. So...any other s...</td>\n",
       "      <td>Non-Spam</td>\n",
       "    </tr>\n",
       "    <tr>\n",
       "      <th>3</th>\n",
       "      <td>4</td>\n",
       "      <td>Will ü b going to esplanade fr home?</td>\n",
       "      <td>Non-Spam</td>\n",
       "    </tr>\n",
       "    <tr>\n",
       "      <th>4</th>\n",
       "      <td>5</td>\n",
       "      <td>This is the 2nd time we have tried 2 contact u...</td>\n",
       "      <td>Spam</td>\n",
       "    </tr>\n",
       "    <tr>\n",
       "      <th>...</th>\n",
       "      <td>...</td>\n",
       "      <td>...</td>\n",
       "      <td>...</td>\n",
       "    </tr>\n",
       "    <tr>\n",
       "      <th>120</th>\n",
       "      <td>121</td>\n",
       "      <td>7 wonders in My WORLD 7th You 6th Ur style 5th...</td>\n",
       "      <td>Non-Spam</td>\n",
       "    </tr>\n",
       "    <tr>\n",
       "      <th>121</th>\n",
       "      <td>122</td>\n",
       "      <td>Try to do something dear. You read something f...</td>\n",
       "      <td>Non-Spam</td>\n",
       "    </tr>\n",
       "    <tr>\n",
       "      <th>122</th>\n",
       "      <td>123</td>\n",
       "      <td>Sun ah... Thk mayb can if dun have anythin on....</td>\n",
       "      <td>Non-Spam</td>\n",
       "    </tr>\n",
       "    <tr>\n",
       "      <th>123</th>\n",
       "      <td>124</td>\n",
       "      <td>SYMPTOMS when U are in love: \"1.U like listeni...</td>\n",
       "      <td>Non-Spam</td>\n",
       "    </tr>\n",
       "    <tr>\n",
       "      <th>124</th>\n",
       "      <td>125</td>\n",
       "      <td>Great. Have a safe trip. Dont panic surrender ...</td>\n",
       "      <td>Non-Spam</td>\n",
       "    </tr>\n",
       "  </tbody>\n",
       "</table>\n",
       "<p>1082 rows × 3 columns</p>\n",
       "</div>"
      ],
      "text/plain": [
       "     S. No.                                       Message_body     Label\n",
       "0         1                         Rofl. Its true to its name  Non-Spam\n",
       "1         2  The guy did some bitching but I acted like i'd...  Non-Spam\n",
       "2         3  Pity, * was in mood for that. So...any other s...  Non-Spam\n",
       "3         4               Will ü b going to esplanade fr home?  Non-Spam\n",
       "4         5  This is the 2nd time we have tried 2 contact u...      Spam\n",
       "..      ...                                                ...       ...\n",
       "120     121  7 wonders in My WORLD 7th You 6th Ur style 5th...  Non-Spam\n",
       "121     122  Try to do something dear. You read something f...  Non-Spam\n",
       "122     123  Sun ah... Thk mayb can if dun have anythin on....  Non-Spam\n",
       "123     124  SYMPTOMS when U are in love: \"1.U like listeni...  Non-Spam\n",
       "124     125  Great. Have a safe trip. Dont panic surrender ...  Non-Spam\n",
       "\n",
       "[1082 rows x 3 columns]"
      ]
     },
     "execution_count": 32,
     "metadata": {},
     "output_type": "execute_result"
    }
   ],
   "source": [
    "df=pd.concat([df1,df2]) #Since we cannot do nlp in two files we concatnate them\n",
    "df"
   ]
  },
  {
   "cell_type": "code",
   "execution_count": 33,
   "id": "c4669cb6",
   "metadata": {},
   "outputs": [
    {
     "data": {
      "text/html": [
       "<div>\n",
       "<style scoped>\n",
       "    .dataframe tbody tr th:only-of-type {\n",
       "        vertical-align: middle;\n",
       "    }\n",
       "\n",
       "    .dataframe tbody tr th {\n",
       "        vertical-align: top;\n",
       "    }\n",
       "\n",
       "    .dataframe thead th {\n",
       "        text-align: right;\n",
       "    }\n",
       "</style>\n",
       "<table border=\"1\" class=\"dataframe\">\n",
       "  <thead>\n",
       "    <tr style=\"text-align: right;\">\n",
       "      <th></th>\n",
       "      <th>S. No.</th>\n",
       "      <th>Message_body</th>\n",
       "      <th>Label</th>\n",
       "    </tr>\n",
       "  </thead>\n",
       "  <tbody>\n",
       "    <tr>\n",
       "      <th>0</th>\n",
       "      <td>1</td>\n",
       "      <td>Rofl. Its true to its name</td>\n",
       "      <td>Non-Spam</td>\n",
       "    </tr>\n",
       "    <tr>\n",
       "      <th>1</th>\n",
       "      <td>2</td>\n",
       "      <td>The guy did some bitching but I acted like i'd...</td>\n",
       "      <td>Non-Spam</td>\n",
       "    </tr>\n",
       "    <tr>\n",
       "      <th>2</th>\n",
       "      <td>3</td>\n",
       "      <td>Pity, * was in mood for that. So...any other s...</td>\n",
       "      <td>Non-Spam</td>\n",
       "    </tr>\n",
       "    <tr>\n",
       "      <th>3</th>\n",
       "      <td>4</td>\n",
       "      <td>Will ü b going to esplanade fr home?</td>\n",
       "      <td>Non-Spam</td>\n",
       "    </tr>\n",
       "    <tr>\n",
       "      <th>4</th>\n",
       "      <td>5</td>\n",
       "      <td>This is the 2nd time we have tried 2 contact u...</td>\n",
       "      <td>Spam</td>\n",
       "    </tr>\n",
       "  </tbody>\n",
       "</table>\n",
       "</div>"
      ],
      "text/plain": [
       "   S. No.                                       Message_body     Label\n",
       "0       1                         Rofl. Its true to its name  Non-Spam\n",
       "1       2  The guy did some bitching but I acted like i'd...  Non-Spam\n",
       "2       3  Pity, * was in mood for that. So...any other s...  Non-Spam\n",
       "3       4               Will ü b going to esplanade fr home?  Non-Spam\n",
       "4       5  This is the 2nd time we have tried 2 contact u...      Spam"
      ]
     },
     "execution_count": 33,
     "metadata": {},
     "output_type": "execute_result"
    }
   ],
   "source": [
    "df.head()"
   ]
  },
  {
   "cell_type": "code",
   "execution_count": 34,
   "id": "66d0884a",
   "metadata": {},
   "outputs": [
    {
     "data": {
      "text/html": [
       "<div>\n",
       "<style scoped>\n",
       "    .dataframe tbody tr th:only-of-type {\n",
       "        vertical-align: middle;\n",
       "    }\n",
       "\n",
       "    .dataframe tbody tr th {\n",
       "        vertical-align: top;\n",
       "    }\n",
       "\n",
       "    .dataframe thead th {\n",
       "        text-align: right;\n",
       "    }\n",
       "</style>\n",
       "<table border=\"1\" class=\"dataframe\">\n",
       "  <thead>\n",
       "    <tr style=\"text-align: right;\">\n",
       "      <th></th>\n",
       "      <th>S. No.</th>\n",
       "      <th>Message_body</th>\n",
       "      <th>Label</th>\n",
       "    </tr>\n",
       "  </thead>\n",
       "  <tbody>\n",
       "    <tr>\n",
       "      <th>120</th>\n",
       "      <td>121</td>\n",
       "      <td>7 wonders in My WORLD 7th You 6th Ur style 5th...</td>\n",
       "      <td>Non-Spam</td>\n",
       "    </tr>\n",
       "    <tr>\n",
       "      <th>121</th>\n",
       "      <td>122</td>\n",
       "      <td>Try to do something dear. You read something f...</td>\n",
       "      <td>Non-Spam</td>\n",
       "    </tr>\n",
       "    <tr>\n",
       "      <th>122</th>\n",
       "      <td>123</td>\n",
       "      <td>Sun ah... Thk mayb can if dun have anythin on....</td>\n",
       "      <td>Non-Spam</td>\n",
       "    </tr>\n",
       "    <tr>\n",
       "      <th>123</th>\n",
       "      <td>124</td>\n",
       "      <td>SYMPTOMS when U are in love: \"1.U like listeni...</td>\n",
       "      <td>Non-Spam</td>\n",
       "    </tr>\n",
       "    <tr>\n",
       "      <th>124</th>\n",
       "      <td>125</td>\n",
       "      <td>Great. Have a safe trip. Dont panic surrender ...</td>\n",
       "      <td>Non-Spam</td>\n",
       "    </tr>\n",
       "  </tbody>\n",
       "</table>\n",
       "</div>"
      ],
      "text/plain": [
       "     S. No.                                       Message_body     Label\n",
       "120     121  7 wonders in My WORLD 7th You 6th Ur style 5th...  Non-Spam\n",
       "121     122  Try to do something dear. You read something f...  Non-Spam\n",
       "122     123  Sun ah... Thk mayb can if dun have anythin on....  Non-Spam\n",
       "123     124  SYMPTOMS when U are in love: \"1.U like listeni...  Non-Spam\n",
       "124     125  Great. Have a safe trip. Dont panic surrender ...  Non-Spam"
      ]
     },
     "execution_count": 34,
     "metadata": {},
     "output_type": "execute_result"
    }
   ],
   "source": [
    "df.tail()"
   ]
  },
  {
   "cell_type": "code",
   "execution_count": 35,
   "id": "7b005090",
   "metadata": {},
   "outputs": [
    {
     "data": {
      "text/plain": [
       "Index(['S. No.', 'Message_body', 'Label'], dtype='object')"
      ]
     },
     "execution_count": 35,
     "metadata": {},
     "output_type": "execute_result"
    }
   ],
   "source": [
    "df.columns"
   ]
  },
  {
   "cell_type": "code",
   "execution_count": 36,
   "id": "e7aa7946",
   "metadata": {},
   "outputs": [
    {
     "data": {
      "text/plain": [
       "(1082, 3)"
      ]
     },
     "execution_count": 36,
     "metadata": {},
     "output_type": "execute_result"
    }
   ],
   "source": [
    "df.shape"
   ]
  },
  {
   "cell_type": "code",
   "execution_count": 37,
   "id": "2a184a82",
   "metadata": {},
   "outputs": [
    {
     "data": {
      "text/plain": [
       "S. No.           int64\n",
       "Message_body    object\n",
       "Label           object\n",
       "dtype: object"
      ]
     },
     "execution_count": 37,
     "metadata": {},
     "output_type": "execute_result"
    }
   ],
   "source": [
    "df.dtypes"
   ]
  },
  {
   "cell_type": "code",
   "execution_count": 38,
   "id": "cbcc8dac",
   "metadata": {},
   "outputs": [
    {
     "data": {
      "text/plain": [
       "S. No.          0\n",
       "Message_body    0\n",
       "Label           0\n",
       "dtype: int64"
      ]
     },
     "execution_count": 38,
     "metadata": {},
     "output_type": "execute_result"
    }
   ],
   "source": [
    "df.isna().sum()"
   ]
  },
  {
   "cell_type": "code",
   "execution_count": 39,
   "id": "a171676a",
   "metadata": {},
   "outputs": [
    {
     "data": {
      "text/plain": [
       "Label\n",
       "Non-Spam    884\n",
       "Spam        198\n",
       "Name: count, dtype: int64"
      ]
     },
     "execution_count": 39,
     "metadata": {},
     "output_type": "execute_result"
    }
   ],
   "source": [
    "df['Label'].value_counts()"
   ]
  },
  {
   "cell_type": "code",
   "execution_count": 40,
   "id": "db2af0e8",
   "metadata": {},
   "outputs": [
    {
     "data": {
      "text/html": [
       "<div>\n",
       "<style scoped>\n",
       "    .dataframe tbody tr th:only-of-type {\n",
       "        vertical-align: middle;\n",
       "    }\n",
       "\n",
       "    .dataframe tbody tr th {\n",
       "        vertical-align: top;\n",
       "    }\n",
       "\n",
       "    .dataframe thead th {\n",
       "        text-align: right;\n",
       "    }\n",
       "</style>\n",
       "<table border=\"1\" class=\"dataframe\">\n",
       "  <thead>\n",
       "    <tr style=\"text-align: right;\">\n",
       "      <th></th>\n",
       "      <th>Message_body</th>\n",
       "      <th>Label</th>\n",
       "    </tr>\n",
       "  </thead>\n",
       "  <tbody>\n",
       "    <tr>\n",
       "      <th>0</th>\n",
       "      <td>Rofl. Its true to its name</td>\n",
       "      <td>Non-Spam</td>\n",
       "    </tr>\n",
       "    <tr>\n",
       "      <th>1</th>\n",
       "      <td>The guy did some bitching but I acted like i'd...</td>\n",
       "      <td>Non-Spam</td>\n",
       "    </tr>\n",
       "    <tr>\n",
       "      <th>2</th>\n",
       "      <td>Pity, * was in mood for that. So...any other s...</td>\n",
       "      <td>Non-Spam</td>\n",
       "    </tr>\n",
       "    <tr>\n",
       "      <th>3</th>\n",
       "      <td>Will ü b going to esplanade fr home?</td>\n",
       "      <td>Non-Spam</td>\n",
       "    </tr>\n",
       "    <tr>\n",
       "      <th>4</th>\n",
       "      <td>This is the 2nd time we have tried 2 contact u...</td>\n",
       "      <td>Spam</td>\n",
       "    </tr>\n",
       "    <tr>\n",
       "      <th>...</th>\n",
       "      <td>...</td>\n",
       "      <td>...</td>\n",
       "    </tr>\n",
       "    <tr>\n",
       "      <th>120</th>\n",
       "      <td>7 wonders in My WORLD 7th You 6th Ur style 5th...</td>\n",
       "      <td>Non-Spam</td>\n",
       "    </tr>\n",
       "    <tr>\n",
       "      <th>121</th>\n",
       "      <td>Try to do something dear. You read something f...</td>\n",
       "      <td>Non-Spam</td>\n",
       "    </tr>\n",
       "    <tr>\n",
       "      <th>122</th>\n",
       "      <td>Sun ah... Thk mayb can if dun have anythin on....</td>\n",
       "      <td>Non-Spam</td>\n",
       "    </tr>\n",
       "    <tr>\n",
       "      <th>123</th>\n",
       "      <td>SYMPTOMS when U are in love: \"1.U like listeni...</td>\n",
       "      <td>Non-Spam</td>\n",
       "    </tr>\n",
       "    <tr>\n",
       "      <th>124</th>\n",
       "      <td>Great. Have a safe trip. Dont panic surrender ...</td>\n",
       "      <td>Non-Spam</td>\n",
       "    </tr>\n",
       "  </tbody>\n",
       "</table>\n",
       "<p>1082 rows × 2 columns</p>\n",
       "</div>"
      ],
      "text/plain": [
       "                                          Message_body     Label\n",
       "0                           Rofl. Its true to its name  Non-Spam\n",
       "1    The guy did some bitching but I acted like i'd...  Non-Spam\n",
       "2    Pity, * was in mood for that. So...any other s...  Non-Spam\n",
       "3                 Will ü b going to esplanade fr home?  Non-Spam\n",
       "4    This is the 2nd time we have tried 2 contact u...      Spam\n",
       "..                                                 ...       ...\n",
       "120  7 wonders in My WORLD 7th You 6th Ur style 5th...  Non-Spam\n",
       "121  Try to do something dear. You read something f...  Non-Spam\n",
       "122  Sun ah... Thk mayb can if dun have anythin on....  Non-Spam\n",
       "123  SYMPTOMS when U are in love: \"1.U like listeni...  Non-Spam\n",
       "124  Great. Have a safe trip. Dont panic surrender ...  Non-Spam\n",
       "\n",
       "[1082 rows x 2 columns]"
      ]
     },
     "execution_count": 40,
     "metadata": {},
     "output_type": "execute_result"
    }
   ],
   "source": [
    "df.drop(['S. No.'],axis=1,inplace=True)\n",
    "df"
   ]
  },
  {
   "cell_type": "code",
   "execution_count": 41,
   "id": "b28016a7",
   "metadata": {},
   "outputs": [
    {
     "data": {
      "text/html": [
       "<div>\n",
       "<style scoped>\n",
       "    .dataframe tbody tr th:only-of-type {\n",
       "        vertical-align: middle;\n",
       "    }\n",
       "\n",
       "    .dataframe tbody tr th {\n",
       "        vertical-align: top;\n",
       "    }\n",
       "\n",
       "    .dataframe thead th {\n",
       "        text-align: right;\n",
       "    }\n",
       "</style>\n",
       "<table border=\"1\" class=\"dataframe\">\n",
       "  <thead>\n",
       "    <tr style=\"text-align: right;\">\n",
       "      <th></th>\n",
       "      <th>Message_body</th>\n",
       "      <th>Label</th>\n",
       "    </tr>\n",
       "  </thead>\n",
       "  <tbody>\n",
       "    <tr>\n",
       "      <th>0</th>\n",
       "      <td>Rofl. Its true to its name</td>\n",
       "      <td>0</td>\n",
       "    </tr>\n",
       "    <tr>\n",
       "      <th>1</th>\n",
       "      <td>The guy did some bitching but I acted like i'd...</td>\n",
       "      <td>0</td>\n",
       "    </tr>\n",
       "    <tr>\n",
       "      <th>2</th>\n",
       "      <td>Pity, * was in mood for that. So...any other s...</td>\n",
       "      <td>0</td>\n",
       "    </tr>\n",
       "    <tr>\n",
       "      <th>3</th>\n",
       "      <td>Will ü b going to esplanade fr home?</td>\n",
       "      <td>0</td>\n",
       "    </tr>\n",
       "    <tr>\n",
       "      <th>4</th>\n",
       "      <td>This is the 2nd time we have tried 2 contact u...</td>\n",
       "      <td>1</td>\n",
       "    </tr>\n",
       "    <tr>\n",
       "      <th>...</th>\n",
       "      <td>...</td>\n",
       "      <td>...</td>\n",
       "    </tr>\n",
       "    <tr>\n",
       "      <th>120</th>\n",
       "      <td>7 wonders in My WORLD 7th You 6th Ur style 5th...</td>\n",
       "      <td>0</td>\n",
       "    </tr>\n",
       "    <tr>\n",
       "      <th>121</th>\n",
       "      <td>Try to do something dear. You read something f...</td>\n",
       "      <td>0</td>\n",
       "    </tr>\n",
       "    <tr>\n",
       "      <th>122</th>\n",
       "      <td>Sun ah... Thk mayb can if dun have anythin on....</td>\n",
       "      <td>0</td>\n",
       "    </tr>\n",
       "    <tr>\n",
       "      <th>123</th>\n",
       "      <td>SYMPTOMS when U are in love: \"1.U like listeni...</td>\n",
       "      <td>0</td>\n",
       "    </tr>\n",
       "    <tr>\n",
       "      <th>124</th>\n",
       "      <td>Great. Have a safe trip. Dont panic surrender ...</td>\n",
       "      <td>0</td>\n",
       "    </tr>\n",
       "  </tbody>\n",
       "</table>\n",
       "<p>1082 rows × 2 columns</p>\n",
       "</div>"
      ],
      "text/plain": [
       "                                          Message_body  Label\n",
       "0                           Rofl. Its true to its name      0\n",
       "1    The guy did some bitching but I acted like i'd...      0\n",
       "2    Pity, * was in mood for that. So...any other s...      0\n",
       "3                 Will ü b going to esplanade fr home?      0\n",
       "4    This is the 2nd time we have tried 2 contact u...      1\n",
       "..                                                 ...    ...\n",
       "120  7 wonders in My WORLD 7th You 6th Ur style 5th...      0\n",
       "121  Try to do something dear. You read something f...      0\n",
       "122  Sun ah... Thk mayb can if dun have anythin on....      0\n",
       "123  SYMPTOMS when U are in love: \"1.U like listeni...      0\n",
       "124  Great. Have a safe trip. Dont panic surrender ...      0\n",
       "\n",
       "[1082 rows x 2 columns]"
      ]
     },
     "execution_count": 41,
     "metadata": {},
     "output_type": "execute_result"
    }
   ],
   "source": [
    "df['Label']=df['Label'].map({'Spam':1,'Non-Spam':0})\n",
    "df"
   ]
  },
  {
   "cell_type": "code",
   "execution_count": 42,
   "id": "c8cb96fa",
   "metadata": {},
   "outputs": [
    {
     "data": {
      "text/plain": [
       "Message_body    object\n",
       "Label            int64\n",
       "dtype: object"
      ]
     },
     "execution_count": 42,
     "metadata": {},
     "output_type": "execute_result"
    }
   ],
   "source": [
    "df.dtypes"
   ]
  },
  {
   "cell_type": "code",
   "execution_count": 43,
   "id": "146e99d1",
   "metadata": {},
   "outputs": [
    {
     "data": {
      "text/plain": [
       "0                             Rofl. Its true to its name\n",
       "1      The guy did some bitching but I acted like i'd...\n",
       "2      Pity, * was in mood for that. So...any other s...\n",
       "3                   Will ü b going to esplanade fr home?\n",
       "4      This is the 2nd time we have tried 2 contact u...\n",
       "                             ...                        \n",
       "120    7 wonders in My WORLD 7th You 6th Ur style 5th...\n",
       "121    Try to do something dear. You read something f...\n",
       "122    Sun ah... Thk mayb can if dun have anythin on....\n",
       "123    SYMPTOMS when U are in love: \"1.U like listeni...\n",
       "124    Great. Have a safe trip. Dont panic surrender ...\n",
       "Name: Message_body, Length: 1082, dtype: object"
      ]
     },
     "execution_count": 43,
     "metadata": {},
     "output_type": "execute_result"
    }
   ],
   "source": [
    "# now we apply nlp to Message_body column\n",
    "tweets=df.Message_body\n",
    "tweets"
   ]
  },
  {
   "cell_type": "code",
   "execution_count": 44,
   "id": "aafd0972",
   "metadata": {},
   "outputs": [
    {
     "data": {
      "text/plain": [
       "0                            Rofl . Its true to its name\n",
       "1      The guy did some bitching but I acted like i'd...\n",
       "2      Pity , * was in mood for that . So ... any oth...\n",
       "3                  Will ü b going to esplanade fr home ?\n",
       "4      This is the 2nd time we have tried 2 contact u...\n",
       "                             ...                        \n",
       "120    7 wonders in My WORLD 7th You 6th Ur style 5th...\n",
       "121    Try to do something dear . You read something ...\n",
       "122    Sun ah ... Thk mayb can if dun have anythin on...\n",
       "123    SYMPTOMS when U are in love : \" 1 . U like lis...\n",
       "124    Great . Have a safe trip . Dont panic surrende...\n",
       "Name: Message_body, Length: 1082, dtype: object"
      ]
     },
     "execution_count": 44,
     "metadata": {},
     "output_type": "execute_result"
    }
   ],
   "source": [
    "from nltk.tokenize import TweetTokenizer\n",
    "tk=TweetTokenizer()\n",
    "tweets=tweets.apply(lambda x:tk.tokenize(x)).apply(lambda x:\" \".join(x))\n",
    "tweets"
   ]
  },
  {
   "cell_type": "code",
   "execution_count": 45,
   "id": "07ecc8ef",
   "metadata": {},
   "outputs": [
    {
     "data": {
      "text/plain": [
       "0                            Rofl   Its true to its name\n",
       "1      The guy did some bitching but I acted like i d...\n",
       "2      Pity     was in mood for that   So     any oth...\n",
       "3                  Will   b going to esplanade fr home  \n",
       "4      This is the 2nd time we have tried 2 contact u...\n",
       "                             ...                        \n",
       "120    7 wonders in My WORLD 7th You 6th Ur style 5th...\n",
       "121    Try to do something dear   You read something ...\n",
       "122    Sun ah     Thk mayb can if dun have anythin on...\n",
       "123    SYMPTOMS when U are in love     1   U like lis...\n",
       "124    Great   Have a safe trip   Dont panic surrende...\n",
       "Name: Message_body, Length: 1082, dtype: object"
      ]
     },
     "execution_count": 45,
     "metadata": {},
     "output_type": "execute_result"
    }
   ],
   "source": [
    "# remove special characters\n",
    "tweets=tweets.replace('[^a-zA-Z0-9]',' ',regex=True) #replacing not [^a-zA-Z0-9] with space,  regex-- regular expression\n",
    "tweets"
   ]
  },
  {
   "cell_type": "code",
   "execution_count": 46,
   "id": "e2ca1ea5",
   "metadata": {},
   "outputs": [
    {
     "data": {
      "text/plain": [
       "0                                 Rofl Its true its name\n",
       "1      The guy did some bitching but acted like inter...\n",
       "2           Pity was mood for that any other suggestions\n",
       "3                              Will going esplanade home\n",
       "4      This the 2nd time have tried contact have won ...\n",
       "                             ...                        \n",
       "120    wonders WORLD 7th You 6th style 5th smile 4th ...\n",
       "121      Try something dear You read something for exams\n",
       "122    Sun Thk mayb can dun have anythin Thk have boo...\n",
       "123    SYMPTOMS when are love like listening songs ge...\n",
       "124        Great Have safe trip Dont panic surrender all\n",
       "Name: Message_body, Length: 1082, dtype: object"
      ]
     },
     "execution_count": 46,
     "metadata": {},
     "output_type": "execute_result"
    }
   ],
   "source": [
    "# to get a meaningful words we remove words which have lessthan 3 letters\n",
    "tweets = tweets.apply(lambda x: ' '.join([i for i in tk.tokenize(x) if len(i) >= 3]))\n",
    "tweets"
   ]
  },
  {
   "cell_type": "code",
   "execution_count": 47,
   "id": "5fe9da48",
   "metadata": {},
   "outputs": [
    {
     "data": {
      "text/plain": [
       "0                                   rofl it true it name\n",
       "1      the guy did some bitch but act like interest b...\n",
       "2               piti was mood for that ani other suggest\n",
       "3                                  will go esplanad home\n",
       "4      this the 2nd time have tri contact have won th...\n",
       "                             ...                        \n",
       "120    wonder world 7th you 6th style 5th smile 4th p...\n",
       "121             tri someth dear you read someth for exam\n",
       "122    sun thk mayb can dun have anythin thk have boo...\n",
       "123    symptom when are love like listen song get sto...\n",
       "124          great have safe trip dont panic surrend all\n",
       "Name: Message_body, Length: 1082, dtype: object"
      ]
     },
     "execution_count": 47,
     "metadata": {},
     "output_type": "execute_result"
    }
   ],
   "source": [
    "# stemming --> used to get root word\n",
    "from nltk.stem import SnowballStemmer\n",
    "ss=SnowballStemmer('english')\n",
    "tweets=tweets.apply(lambda x:[ss.stem(i.lower()) for i in tk.tokenize(x)]).apply(lambda x: ' '.join(x))\n",
    "tweets"
   ]
  },
  {
   "cell_type": "code",
   "execution_count": 48,
   "id": "19cc1eee",
   "metadata": {},
   "outputs": [],
   "source": [
    "# identification of stop word\n",
    "from nltk.corpus import stopwords\n",
    "sw=stopwords.words('english')"
   ]
  },
  {
   "cell_type": "code",
   "execution_count": 49,
   "id": "56608365",
   "metadata": {},
   "outputs": [
    {
     "data": {
      "text/plain": [
       "0                                         rofl true name\n",
       "1      guy bitch act like interest buy someth els nex...\n",
       "2                                  piti mood ani suggest\n",
       "3                                       go esplanad home\n",
       "4      2nd time tri contact 750 pound prize claim eas...\n",
       "                             ...                        \n",
       "120    wonder world 7th 6th style 5th smile 4th perso...\n",
       "121                     tri someth dear read someth exam\n",
       "122    sun thk mayb dun anythin thk book lesson pilat...\n",
       "123    symptom love like listen song get stop see nam...\n",
       "124                   great safe trip dont panic surrend\n",
       "Name: Message_body, Length: 1082, dtype: object"
      ]
     },
     "execution_count": 49,
     "metadata": {},
     "output_type": "execute_result"
    }
   ],
   "source": [
    "#remove stopwords from tweets\n",
    "tweets=tweets.apply(lambda x:[i for i in tk.tokenize(x) if i not in sw]).apply(lambda x:' '.join(x))\n",
    "tweets"
   ]
  },
  {
   "cell_type": "code",
   "execution_count": 50,
   "id": "0b340ddc",
   "metadata": {},
   "outputs": [
    {
     "name": "stdout",
     "output_type": "stream",
     "text": [
      "<Compressed Sparse Row sparse matrix of dtype 'float64'\n",
      "\twith 8924 stored elements and shape (1082, 2854)>\n",
      "  Coords\tValues\n",
      "  (0, 2146)\t0.6743246681420616\n",
      "  (0, 2603)\t0.5352804139572925\n",
      "  (0, 1751)\t0.5086856793431558\n",
      "  (1, 1236)\t0.26826339572857744\n",
      "  (1, 559)\t0.3752334020731641\n",
      "  (1, 353)\t0.35437558793533497\n",
      "  (1, 1533)\t0.2174075457753962\n",
      "  (1, 1391)\t0.3187189191538061\n",
      "  (1, 628)\t0.2751324774651613\n",
      "  (1, 2331)\t0.2751324774651613\n",
      "  (1, 972)\t0.30392006451010634\n",
      "  (1, 1779)\t0.26514476216742267\n",
      "  (1, 2741)\t0.22799692523276513\n",
      "  (1, 1167)\t0.32809784984076795\n",
      "  (1, 1122)\t0.1977601804079742\n",
      "  (2, 1930)\t0.5469696796701571\n",
      "  (2, 1708)\t0.5469696796701571\n",
      "  (2, 418)\t0.36716239650585775\n",
      "  (2, 2429)\t0.5165656915002457\n",
      "  (3, 1192)\t0.4955435583228749\n",
      "  (3, 998)\t0.7276196298199478\n",
      "  (3, 1308)\t0.47434824349351806\n",
      "  (4, 176)\t0.26181671272503576\n",
      "  (4, 2543)\t0.18612502049180385\n",
      "  (4, 2599)\t0.20589438654271086\n",
      "  :\t:\n",
      "  (1079, 1522)\t0.24774213284441401\n",
      "  (1079, 2434)\t0.26153957460502464\n",
      "  (1079, 1724)\t0.2706898396742334\n",
      "  (1079, 1852)\t0.2706898396742334\n",
      "  (1079, 1925)\t0.2706898396742334\n",
      "  (1079, 1793)\t0.2706898396742334\n",
      "  (1079, 430)\t0.2991131590878755\n",
      "  (1079, 1316)\t0.2991131590878755\n",
      "  (1080, 1751)\t0.27931042764086844\n",
      "  (1080, 1533)\t0.21452593732655792\n",
      "  (1080, 1182)\t0.36602572795540395\n",
      "  (1080, 2210)\t0.21572034231434808\n",
      "  (1080, 1583)\t0.2249749608215637\n",
      "  (1080, 2399)\t0.2208005656522519\n",
      "  (1080, 2335)\t0.33507584451064965\n",
      "  (1080, 417)\t0.3237491068715447\n",
      "  (1080, 1544)\t0.3237491068715447\n",
      "  (1080, 2462)\t0.37025990523411034\n",
      "  (1080, 542)\t0.37025990523411034\n",
      "  (1081, 1223)\t0.31872563060534453\n",
      "  (1081, 2600)\t0.3734390895085233\n",
      "  (1081, 2168)\t0.4525275695553008\n",
      "  (1081, 923)\t0.30819278764115643\n",
      "  (1081, 1876)\t0.4791624063199324\n",
      "  (1081, 2447)\t0.4791624063199324\n"
     ]
    }
   ],
   "source": [
    "# vectorization text--->number\n",
    "# we use tfidf --> term frequency inverse document frequency\n",
    "\n",
    "from sklearn.feature_extraction.text import TfidfVectorizer\n",
    "vec=TfidfVectorizer()\n",
    "data=vec.fit_transform(tweets)  # now vectorized tweets are stored in data\n",
    "print(data)"
   ]
  },
  {
   "cell_type": "code",
   "execution_count": 51,
   "id": "f63b2a70",
   "metadata": {},
   "outputs": [],
   "source": [
    "y=df['Label'].values"
   ]
  },
  {
   "cell_type": "code",
   "execution_count": 52,
   "id": "2ad40fdc",
   "metadata": {},
   "outputs": [],
   "source": [
    "# now data ==> input\n",
    "#     y ==> output"
   ]
  },
  {
   "cell_type": "code",
   "execution_count": 53,
   "id": "9e8b2e34",
   "metadata": {},
   "outputs": [],
   "source": [
    "# now we apply machine learning classification for prediction"
   ]
  },
  {
   "cell_type": "code",
   "execution_count": 54,
   "id": "63662465",
   "metadata": {},
   "outputs": [],
   "source": [
    "from sklearn.model_selection import train_test_split\n",
    "x_train,x_test,y_train,y_test=train_test_split(data,y,test_size=0.30,random_state=42)"
   ]
  },
  {
   "cell_type": "code",
   "execution_count": 55,
   "id": "ab8c33c5",
   "metadata": {},
   "outputs": [],
   "source": [
    "#multiple model creation \n",
    "from sklearn.neighbors import KNeighborsClassifier\n",
    "from sklearn.naive_bayes import BernoulliNB\n",
    "from sklearn.svm import SVC\n",
    "from sklearn.metrics import accuracy_score\n",
    "from sklearn.ensemble import RandomForestClassifier\n",
    "rand=RandomForestClassifier(n_estimators=100,random_state=42)\n",
    "knn=KNeighborsClassifier(n_neighbors=7)\n",
    "nai=BernoulliNB()\n",
    "sup=SVC()"
   ]
  },
  {
   "cell_type": "code",
   "execution_count": 56,
   "id": "3b19012e",
   "metadata": {},
   "outputs": [
    {
     "name": "stdout",
     "output_type": "stream",
     "text": [
      "Model name is --->  KNeighborsClassifier(n_neighbors=7)\n",
      "Performance Evaluation of  KNeighborsClassifier(n_neighbors=7) ****************\n",
      "accuracy_score ===  0.8338461538461538\n",
      "----------------------------------------------------------------------------------------------------\n",
      "Model name is --->  BernoulliNB()\n",
      "Performance Evaluation of  BernoulliNB() ****************\n",
      "accuracy_score ===  0.9569230769230769\n",
      "----------------------------------------------------------------------------------------------------\n",
      "Model name is --->  SVC()\n",
      "Performance Evaluation of  SVC() ****************\n",
      "accuracy_score ===  0.9230769230769231\n",
      "----------------------------------------------------------------------------------------------------\n",
      "Model name is --->  RandomForestClassifier(random_state=42)\n",
      "Performance Evaluation of  RandomForestClassifier(random_state=42) ****************\n",
      "accuracy_score ===  0.96\n",
      "----------------------------------------------------------------------------------------------------\n"
     ]
    }
   ],
   "source": [
    "lst=[knn,nai,sup,rand]\n",
    "for i in lst:\n",
    "    print(\"Model name is ---> \",i)\n",
    "    i.fit(x_train,y_train)\n",
    "    y_pred=i.predict(x_test)\n",
    "    print(\"Performance Evaluation of \",i,\"****************\")\n",
    "\n",
    "    print('accuracy_score === ',accuracy_score(y_test,y_pred))\n",
    "    print('-'*100)"
   ]
  },
  {
   "cell_type": "code",
   "execution_count": null,
   "id": "56eebab7",
   "metadata": {},
   "outputs": [],
   "source": []
  }
 ],
 "metadata": {
  "kernelspec": {
   "display_name": "Python 3",
   "language": "python",
   "name": "python3"
  },
  "language_info": {
   "codemirror_mode": {
    "name": "ipython",
    "version": 3
   },
   "file_extension": ".py",
   "mimetype": "text/x-python",
   "name": "python",
   "nbconvert_exporter": "python",
   "pygments_lexer": "ipython3",
   "version": "3.12.6"
  }
 },
 "nbformat": 4,
 "nbformat_minor": 5
}
